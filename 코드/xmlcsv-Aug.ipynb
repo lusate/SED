{
 "cells": [
  {
   "cell_type": "code",
   "execution_count": 3,
   "id": "449da123",
   "metadata": {},
   "outputs": [],
   "source": [
    "#xml 을 csv 파일로 변경하는 법\n",
    "#Element tree를 이용하여 파싱"
   ]
  },
  {
   "cell_type": "code",
   "execution_count": 4,
   "id": "136320df",
   "metadata": {},
   "outputs": [
    {
     "name": "stdout",
     "output_type": "stream",
     "text": [
      "c:/upload/\n",
      "파일 개수는: 4492\n"
     ]
    }
   ],
   "source": [
    "import os\n",
    "from pathlib import Path\n",
    "\n",
    "HOME_DIR = 'c:/upload/'\n",
    "\n",
    "ANNO_DIR = os.path.join(HOME_DIR) \n",
    "#xml 파일들\n",
    "IMAGE_DIR = os.path.join(HOME_DIR)\n",
    "#이미지 파일들\n",
    "print(ANNO_DIR)\n",
    "\n",
    "files = os.listdir(ANNO_DIR)\n",
    "print('파일 개수는:',len(files))"
   ]
  },
  {
   "cell_type": "code",
   "execution_count": 5,
   "id": "40ec62b7",
   "metadata": {},
   "outputs": [
    {
     "name": "stdout",
     "output_type": "stream",
     "text": [
      "c:/upload/annotation.csv\n"
     ]
    }
   ],
   "source": [
    "import glob\n",
    "import xml.etree.ElementTree as ET\n",
    "\n",
    "def xml_to_csv(path, output_filename):\n",
    "\n",
    "    #class_map - 클래스 4개로 지정\n",
    "    classes_map = {'helmet':0, 'non_helmet':1, 'vest':2, 'non_vest':3 }\n",
    "    \n",
    "    # xml 확장자를 가진 모든 파일의 절대 경로로 xml_file할당.\n",
    "    with open(output_filename, \"w\") as train_csv_file:\n",
    "        for xml_file in glob.glob(path + '/*.xml'):\n",
    "            # path에 있는 xml파일중 하나 하나를 가져온다.\n",
    "            tree = ET.parse(xml_file) # xml 로드\n",
    "            root = tree.getroot() # xml 문서의 최상단 루트 태그\n",
    "            # 파일내에 있는 모든 object Element를 찾음.\n",
    "            full_image_name = os.path.join(IMAGE_DIR, root.find('filename').text)\n",
    "            value_str_list = ' '\n",
    "            # find all <object>인것 다 찾는다\n",
    "            for obj in root.findall('object'):\n",
    "                xmlbox = obj.find('bndbox')\n",
    "                #class\n",
    "                class_name = obj.find('name').text\n",
    "                x1 = int(xmlbox.find('xmin').text)\n",
    "                y1 = int(xmlbox.find('ymin').text)\n",
    "                x2 = int(xmlbox.find('xmax').text)\n",
    "                y2 = int(xmlbox.find('ymax').text)\n",
    "                # 클래스 4개 이므로 xml 파일에서 'name'으로 된 object 들을 뽑아옴.\n",
    "                class_id = classes_map[class_name]\n",
    "                value_str = ('{0},{1},{2},{3},{4}').format(x1, y1, x2, y2, class_id)\n",
    "                value_str_list = value_str_list+value_str+' '\n",
    "                \n",
    "                # object별 정보를 tuple형태로 object_list에 저장.\n",
    "            train_csv_file.write(full_image_name+' '+ value_str_list+'\\n') # image_file_path box1 box2 ... boxN \\n ... image_file_path\n",
    "        # xml 파일 찾는 루프 종료\n",
    "xml_to_csv(ANNO_DIR, os.path.join(ANNO_DIR,'annotation.csv'))\n",
    "print(os.path.join(ANNO_DIR,'annotation.csv'))"
   ]
  },
  {
   "cell_type": "code",
   "execution_count": null,
   "id": "a49ac886",
   "metadata": {},
   "outputs": [],
   "source": []
  }
 ],
 "metadata": {
  "kernelspec": {
   "display_name": "Python 3 (ipykernel)",
   "language": "python",
   "name": "python3"
  },
  "language_info": {
   "codemirror_mode": {
    "name": "ipython",
    "version": 3
   },
   "file_extension": ".py",
   "mimetype": "text/x-python",
   "name": "python",
   "nbconvert_exporter": "python",
   "pygments_lexer": "ipython3",
   "version": "3.7.13"
  }
 },
 "nbformat": 4,
 "nbformat_minor": 5
}
