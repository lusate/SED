{
 "cells": [
  {
   "cell_type": "code",
   "execution_count": 1,
   "id": "582e68e2",
   "metadata": {},
   "outputs": [],
   "source": [
    "import xml.etree.ElementTree as ET\n",
    "# annotation한 csv를 읽음.\n",
    "def read_annotation(xml_file: str):\n",
    "    tree = ET.parse(xml_file)\n",
    "    root = tree.getroot()\n",
    "\n",
    "    bounding_box_list = ['helmet', 'non_helmet', 'vest', 'non_vest']\n",
    "\n",
    "    file_name = root.find('filename').text\n",
    "    for obj in root.iter('object'):\n",
    "\n",
    "        object_label = obj.find(\"name\").text\n",
    "        for box in obj.findall(\"bndbox\"):\n",
    "            x_min = int(box.find(\"xmin\").text)\n",
    "            y_min = int(box.find(\"ymin\").text)\n",
    "            x_max = int(box.find(\"xmax\").text)\n",
    "            y_max = int(box.find(\"ymax\").text)\n",
    "\n",
    "        bounding_box = [object_label, x_min, y_min, x_max, y_max]\n",
    "        bounding_box_list.append(bounding_box)\n",
    "\n",
    "    return bounding_box_list, file_name"
   ]
  },
  {
   "cell_type": "code",
   "execution_count": 2,
   "id": "4bca25b4",
   "metadata": {},
   "outputs": [],
   "source": [
    "from os import listdir\n",
    "import cv2\n",
    "import numpy as np\n",
    "\n",
    "def read_train_dataset(dir):\n",
    "    images = []\n",
    "    annotations = []\n",
    "\n",
    "    for file in listdir(dir):\n",
    "        # jpg와 png 인 이미지 파일들\n",
    "        if 'jpg' in file.lower() or 'png' in file.lower():\n",
    "            images.append(cv2.imread(dir + file, 1))\n",
    "            annotation_file = file.replace(file.split('.')[-1], 'xml')\n",
    "            bounding_box_list, file_name = read_annotation(dir + annotation_file)\n",
    "            annotations.append((bounding_box_list, annotation_file, file_name))\n",
    "            # 수집한 이미지에서 xml로 저장해둔 데이터 읽음.\n",
    "    images = np.array(images)\n",
    "\n",
    "    return images, annotations"
   ]
  },
  {
   "cell_type": "code",
   "execution_count": 3,
   "id": "d0a4720b",
   "metadata": {},
   "outputs": [
    {
     "data": {
      "text/plain": [
       "'\\n이미지와 라벨링한 xml을 한 폴더에 넣고 실행.\\n'"
      ]
     },
     "execution_count": 3,
     "metadata": {},
     "output_type": "execute_result"
    }
   ],
   "source": [
    "'''\n",
    "# 동일한 디렉토리 내에 image set과 annotation set을 준비한 후 프로그램 실행\n",
    "'''"
   ]
  },
  {
   "cell_type": "code",
   "execution_count": 11,
   "id": "14e826d2",
   "metadata": {},
   "outputs": [
    {
     "name": "stderr",
     "output_type": "stream",
     "text": [
      "C:\\Users\\user\\anaconda3\\envs\\test\\lib\\site-packages\\ipykernel_launcher.py:16: VisibleDeprecationWarning: Creating an ndarray from ragged nested sequences (which is a list-or-tuple of lists-or-tuples-or ndarrays with different lengths or shapes) is deprecated. If you meant to do this, you must specify 'dtype=object' when creating the ndarray.\n",
      "  \n"
     ]
    }
   ],
   "source": [
    "import imgaug as ia\n",
    "from imgaug import augmenters as iaa\n",
    "#imgaug 라이브러리 설치\n",
    "from files import *\n",
    "from pascal_voc_writer import Writer\n",
    "#pascal voc 파일 형식으로 이미지 주석 xml 파일을 만드는데 사용\n",
    "\n",
    "ia.seed(1) #난수 생성\n",
    "\n",
    "dir = 'c:/upload/'\n",
    "images, annotations = read_train_dataset(dir)\n",
    "'''\n",
    "read_train_dataset()\n",
    "image 파일들과 각 이미지의 annotation xml 파일들이 함께 있는 디렉토리의 경로를 인자로 전달했을 때,\n",
    "4차원(N:이미지 수, W:이미지 너비, H:이미지 높이, D:RGB) nparray로 변환된 이미지들과 \n",
    "3개의 항(bounding-box 리스트, xml 파일명, 관련 이미지 파일명)을 갖는 Annotation 투플의 리스트를 반환한다.\n",
    "'''\n",
    "\n",
    "for idx in range(len(images)):\n",
    "    image = images[idx]\n",
    "    boxes = annotations[idx][0]\n",
    "\n",
    "    ia_bounding_boxes = []\n",
    "    for box in boxes:\n",
    "        ia_bounding_boxes.append(ia.BoundingBox(x1=box[1], y1=box[2], x2=box[3], y2=box[4]))\n",
    "    # 처음 바운딩 박스 정보.\n",
    "    bbs = ia.BoundingBoxesOnImage(ia_bounding_boxes, shape =image.shape)\n",
    "\n",
    "    seq = iaa.Sequential([\n",
    "        iaa.Multiply((0.7, 1.5)),\n",
    "        #0.7~1.5 배의 밝기 값 변환\n",
    "        iaa.Affine(\n",
    "            translate_px={\"x\": (-30,30), \"y\": (-30,30)}, #-30~30 픽셀의 평행이동\n",
    "            scale=(0.5, 1), #0.5~1배의 scale 변환\n",
    "            rotate=(-15,15) #-15~15도 회전.\n",
    "        ),\n",
    "        iaa.Fliplr(0.5) #0.5의 확률로 좌우 반전의 옵션이 랜덤하게 들어감\n",
    "    ])\n",
    "\n",
    "    seq_modify = seq.to_deterministic()\n",
    "    # 증대시킨 후의 이미지를 저장.\n",
    "    image_aug = seq_modify.augment_images([image])[0]\n",
    "    bbs_aug = seq_modify.augment_bounding_boxes([bbs])[0]\n",
    "\n",
    "    new_image_file = dir + 'after_' + annotations[idx][2]\n",
    "    cv2.imwrite(new_image_file, image_aug)\n",
    "\n",
    "    h, w = np.shape(image_aug)[0:2]\n",
    "    voc_writer = Writer(new_image_file, w, h)\n",
    "\n",
    "    for i in range(len(bbs_aug.bounding_boxes)):\n",
    "        bb_box = bbs_aug.bounding_boxes[i]\n",
    "        voc_writer.addObject(boxes[i][0], int(bb_box.x1), int(bb_box.y1), int(bb_box.x2), int(bb_box.y2))\n",
    "        # 증대시킨, 라벨린 된 x1, x2, y1, y2 대로 맞춰주기.\n",
    "    voc_writer.save(dir + 'after_' + annotations[idx][1])\n",
    "    # after_ 를 붙여서 저장.\n",
    "    \n",
    "#가지고 있는 이미지와 해당 annotation 에 적용        "
   ]
  },
  {
   "cell_type": "code",
   "execution_count": null,
   "id": "a651982b",
   "metadata": {},
   "outputs": [],
   "source": [
    "'''\n",
    "0.5~1.5배의 밝기 값 변환, -30~30 픽셀의 평행이동, \n",
    "0.5~1배의 scale 변환, -15~15도 회전, 0.5의 확률로 좌우 반전의 옵션이 랜덤하게 들어가면서 이미지를 변화시킨다\n",
    "'''"
   ]
  }
 ],
 "metadata": {
  "kernelspec": {
   "display_name": "Python 3 (ipykernel)",
   "language": "python",
   "name": "python3"
  },
  "language_info": {
   "codemirror_mode": {
    "name": "ipython",
    "version": 3
   },
   "file_extension": ".py",
   "mimetype": "text/x-python",
   "name": "python",
   "nbconvert_exporter": "python",
   "pygments_lexer": "ipython3",
   "version": "3.7.13"
  }
 },
 "nbformat": 4,
 "nbformat_minor": 5
}
